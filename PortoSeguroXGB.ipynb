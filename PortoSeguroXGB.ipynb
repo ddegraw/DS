{
 "cells": [
  {
   "cell_type": "code",
   "execution_count": 15,
   "metadata": {},
   "outputs": [
    {
     "name": "stderr",
     "output_type": "stream",
     "text": [
      "C:\\Anaconda2\\envs\\tf\\lib\\site-packages\\sklearn\\cross_validation.py:41: DeprecationWarning: This module was deprecated in version 0.18 in favor of the model_selection module into which all the refactored classes and functions are moved. Also note that the interface of the new CV iterators are different from that of this module. This module will be removed in 0.20.\n",
      "  \"This module will be removed in 0.20.\", DeprecationWarning)\n"
     ]
    }
   ],
   "source": [
    "import lightgbm as lgb\n",
    "from sklearn.model_selection import cross_val_score\n",
    "from sklearn.cross_validation import train_test_split\n",
    "import numpy as np # linear algebra\n",
    "import pandas as pd # data processing, CSV file I/O (e.g. pd.read_csv)"
   ]
  },
  {
   "cell_type": "code",
   "execution_count": 5,
   "metadata": {},
   "outputs": [],
   "source": [
    "train = pd.read_csv('./input/train.csv')\n",
    "test = pd.read_csv('./input/test.csv')"
   ]
  },
  {
   "cell_type": "code",
   "execution_count": 8,
   "metadata": {},
   "outputs": [
    {
     "data": {
      "text/plain": [
       "0    0\n",
       "1    0\n",
       "2    0\n",
       "3    0\n",
       "4    0\n",
       "Name: target, dtype: int64"
      ]
     },
     "execution_count": 8,
     "metadata": {},
     "output_type": "execute_result"
    }
   ],
   "source": []
  },
  {
   "cell_type": "code",
   "execution_count": 35,
   "metadata": {},
   "outputs": [],
   "source": [
    "cat_features = [a for a in test.columns if a.endswith('cat')]\n",
    "model_vars = [a for a in train.columns if 'id' not in a and 'target' not in a]\n",
    "id_train = train['id'].values\n",
    "id_test = test['id'].values\n",
    "x_train, x_valid, y_train, y_valid = train_test_split(train[model_vars], train.target, test_size=0.2, random_state=4242)"
   ]
  },
  {
   "cell_type": "code",
   "execution_count": 47,
   "metadata": {},
   "outputs": [],
   "source": [
    "d_train = lgb.Dataset(x_train, y_train)\n",
    "d_valid = lgb.Dataset(x_valid, y_valid, reference=d_train)\n",
    "d_test =  lgb.Dataset(test[model_vars])\n",
    "\n",
    "params = {\n",
    "        'task' : 'train',\n",
    "        'boosting_type' : 'gbdt',\n",
    "        'objective' : 'binary',\n",
    "        'metric' : {'binary_logloss'},\n",
    "        'num_leaves' : 100,\n",
    "        'max_depth' : 6,\n",
    "        'learning_rate' : 0.1,\n",
    "        'feature_fraction' : 0.9,\n",
    "        'bagging_fraction' : 0.9,\n",
    "        'bagging_freq': 5,\n",
    "        'min_data_in_leaf' : 20,\n",
    "        #'max_bin': 200,\n",
    "        'verbose' : 0\n",
    "}\n",
    "\n",
    "#preds = gbm2.predict_proba(test[model_vars], num_iteration=gbm2.best_iteration)[:,1]\n",
    "# model.fit(params,train[model_vars], train.target, categorical_feature=cat_features)\n",
    "# preds = model.predict_proba(test[model_vars])[:,1]"
   ]
  },
  {
   "cell_type": "code",
   "execution_count": 48,
   "metadata": {},
   "outputs": [
    {
     "name": "stdout",
     "output_type": "stream",
     "text": [
      "[1]\ttrain's binary_logloss: 0.611382\ttrain's gini: 4.51212\teval's binary_logloss: 0.61138\teval's gini: 4.86936\n",
      "Train until valid scores didn't improve in 50 rounds.\n",
      "[2]\ttrain's binary_logloss: 0.544497\ttrain's gini: 4.01674\teval's binary_logloss: 0.544509\teval's gini: 4.40752\n",
      "[3]\ttrain's binary_logloss: 0.488933\ttrain's gini: 3.87803\teval's binary_logloss: 0.488947\teval's gini: 4.15273\n",
      "[4]\ttrain's binary_logloss: 0.442233\ttrain's gini: 3.76607\teval's binary_logloss: 0.442261\teval's gini: 4.06658\n",
      "[5]\ttrain's binary_logloss: 0.402645\ttrain's gini: 3.76173\teval's binary_logloss: 0.402685\teval's gini: 4.05332\n",
      "[6]\ttrain's binary_logloss: 0.36885\ttrain's gini: 3.67834\teval's binary_logloss: 0.368908\teval's gini: 4.02962\n",
      "[7]\ttrain's binary_logloss: 0.339843\ttrain's gini: 3.64318\teval's binary_logloss: 0.339909\teval's gini: 3.99622\n",
      "[8]\ttrain's binary_logloss: 0.314833\ttrain's gini: 3.63028\teval's binary_logloss: 0.314928\teval's gini: 3.9957\n",
      "[9]\ttrain's binary_logloss: 0.293206\ttrain's gini: 3.6481\teval's binary_logloss: 0.293323\teval's gini: 3.99226\n",
      "[10]\ttrain's binary_logloss: 0.274456\ttrain's gini: 3.63094\teval's binary_logloss: 0.274596\teval's gini: 3.98057\n",
      "[11]\ttrain's binary_logloss: 0.258162\ttrain's gini: 3.63094\teval's binary_logloss: 0.258326\teval's gini: 3.9762\n",
      "[12]\ttrain's binary_logloss: 0.243988\ttrain's gini: 3.59558\teval's binary_logloss: 0.244179\teval's gini: 3.94453\n",
      "[13]\ttrain's binary_logloss: 0.231648\ttrain's gini: 3.58406\teval's binary_logloss: 0.23188\teval's gini: 3.94468\n",
      "[14]\ttrain's binary_logloss: 0.220897\ttrain's gini: 3.55736\teval's binary_logloss: 0.221164\teval's gini: 3.93415\n",
      "[15]\ttrain's binary_logloss: 0.211532\ttrain's gini: 3.52198\teval's binary_logloss: 0.211832\teval's gini: 3.8942\n",
      "[16]\ttrain's binary_logloss: 0.203373\ttrain's gini: 3.5088\teval's binary_logloss: 0.203717\teval's gini: 3.89669\n",
      "[17]\ttrain's binary_logloss: 0.196267\ttrain's gini: 3.49509\teval's binary_logloss: 0.196655\teval's gini: 3.89545\n",
      "[18]\ttrain's binary_logloss: 0.190083\ttrain's gini: 3.49476\teval's binary_logloss: 0.190511\teval's gini: 3.89762\n",
      "[19]\ttrain's binary_logloss: 0.184708\ttrain's gini: 3.49168\teval's binary_logloss: 0.185179\teval's gini: 3.89598\n",
      "[20]\ttrain's binary_logloss: 0.180038\ttrain's gini: 3.49036\teval's binary_logloss: 0.180553\teval's gini: 3.90738\n",
      "[21]\ttrain's binary_logloss: 0.175966\ttrain's gini: 3.47428\teval's binary_logloss: 0.176544\teval's gini: 3.92576\n",
      "[22]\ttrain's binary_logloss: 0.172439\ttrain's gini: 3.4795\teval's binary_logloss: 0.173067\teval's gini: 3.93148\n",
      "[23]\ttrain's binary_logloss: 0.169372\ttrain's gini: 3.47509\teval's binary_logloss: 0.170067\teval's gini: 3.94012\n",
      "[24]\ttrain's binary_logloss: 0.166717\ttrain's gini: 3.45726\teval's binary_logloss: 0.167489\teval's gini: 3.96347\n",
      "[25]\ttrain's binary_logloss: 0.164417\ttrain's gini: 3.43273\teval's binary_logloss: 0.165262\teval's gini: 3.96391\n",
      "[26]\ttrain's binary_logloss: 0.162447\ttrain's gini: 3.39705\teval's binary_logloss: 0.163357\teval's gini: 3.93815\n",
      "[27]\ttrain's binary_logloss: 0.16073\ttrain's gini: 3.37553\teval's binary_logloss: 0.161705\teval's gini: 3.91351\n",
      "[28]\ttrain's binary_logloss: 0.159262\ttrain's gini: 3.3667\teval's binary_logloss: 0.1603\teval's gini: 3.91182\n",
      "[29]\ttrain's binary_logloss: 0.157973\ttrain's gini: 3.33205\teval's binary_logloss: 0.159089\teval's gini: 3.88836\n",
      "[30]\ttrain's binary_logloss: 0.156869\ttrain's gini: 3.31396\teval's binary_logloss: 0.158045\teval's gini: 3.8716\n",
      "[31]\ttrain's binary_logloss: 0.155907\ttrain's gini: 3.30089\teval's binary_logloss: 0.157166\teval's gini: 3.86585\n",
      "[32]\ttrain's binary_logloss: 0.155071\ttrain's gini: 3.26715\teval's binary_logloss: 0.15643\teval's gini: 3.86332\n",
      "[33]\ttrain's binary_logloss: 0.154345\ttrain's gini: 3.24827\teval's binary_logloss: 0.155783\teval's gini: 3.8526\n",
      "[34]\ttrain's binary_logloss: 0.153709\ttrain's gini: 3.2128\teval's binary_logloss: 0.15523\teval's gini: 3.83133\n",
      "[35]\ttrain's binary_logloss: 0.153139\ttrain's gini: 3.17214\teval's binary_logloss: 0.154742\teval's gini: 3.78704\n",
      "[36]\ttrain's binary_logloss: 0.152658\ttrain's gini: 3.14407\teval's binary_logloss: 0.154342\teval's gini: 3.77328\n",
      "[37]\ttrain's binary_logloss: 0.152224\ttrain's gini: 3.11587\teval's binary_logloss: 0.153995\teval's gini: 3.75957\n",
      "[38]\ttrain's binary_logloss: 0.151849\ttrain's gini: 3.09004\teval's binary_logloss: 0.153715\teval's gini: 3.75495\n",
      "[39]\ttrain's binary_logloss: 0.151513\ttrain's gini: 3.06676\teval's binary_logloss: 0.153476\teval's gini: 3.74819\n",
      "[40]\ttrain's binary_logloss: 0.151211\ttrain's gini: 3.03905\teval's binary_logloss: 0.153254\teval's gini: 3.73009\n",
      "[41]\ttrain's binary_logloss: 0.150925\ttrain's gini: 3.01253\teval's binary_logloss: 0.153082\teval's gini: 3.72316\n",
      "[42]\ttrain's binary_logloss: 0.150698\ttrain's gini: 2.99981\teval's binary_logloss: 0.152943\teval's gini: 3.72847\n",
      "[43]\ttrain's binary_logloss: 0.150475\ttrain's gini: 2.98024\teval's binary_logloss: 0.152821\teval's gini: 3.73233\n",
      "[44]\ttrain's binary_logloss: 0.150259\ttrain's gini: 2.95163\teval's binary_logloss: 0.152697\teval's gini: 3.71244\n",
      "[45]\ttrain's binary_logloss: 0.150095\ttrain's gini: 2.94503\teval's binary_logloss: 0.15262\teval's gini: 3.72288\n",
      "[46]\ttrain's binary_logloss: 0.149942\ttrain's gini: 2.93211\teval's binary_logloss: 0.152538\teval's gini: 3.71471\n",
      "[47]\ttrain's binary_logloss: 0.149794\ttrain's gini: 2.91706\teval's binary_logloss: 0.152462\teval's gini: 3.70378\n",
      "[48]\ttrain's binary_logloss: 0.149642\ttrain's gini: 2.90057\teval's binary_logloss: 0.152404\teval's gini: 3.7009\n",
      "[49]\ttrain's binary_logloss: 0.149487\ttrain's gini: 2.87978\teval's binary_logloss: 0.15234\teval's gini: 3.68446\n",
      "[50]\ttrain's binary_logloss: 0.149328\ttrain's gini: 2.86122\teval's binary_logloss: 0.152268\teval's gini: 3.66648\n",
      "[51]\ttrain's binary_logloss: 0.149189\ttrain's gini: 2.84074\teval's binary_logloss: 0.152218\teval's gini: 3.66021\n",
      "[52]\ttrain's binary_logloss: 0.149051\ttrain's gini: 2.82166\teval's binary_logloss: 0.1522\teval's gini: 3.66406\n",
      "[53]\ttrain's binary_logloss: 0.14892\ttrain's gini: 2.8057\teval's binary_logloss: 0.152157\teval's gini: 3.65652\n",
      "[54]\ttrain's binary_logloss: 0.148836\ttrain's gini: 2.79799\teval's binary_logloss: 0.152141\teval's gini: 3.66177\n",
      "[55]\ttrain's binary_logloss: 0.148709\ttrain's gini: 2.77789\teval's binary_logloss: 0.152113\teval's gini: 3.65437\n",
      "[56]\ttrain's binary_logloss: 0.148594\ttrain's gini: 2.76092\teval's binary_logloss: 0.152071\teval's gini: 3.6419\n",
      "[57]\ttrain's binary_logloss: 0.148477\ttrain's gini: 2.74183\teval's binary_logloss: 0.152035\teval's gini: 3.62876\n",
      "[58]\ttrain's binary_logloss: 0.148379\ttrain's gini: 2.72797\teval's binary_logloss: 0.152028\teval's gini: 3.62496\n",
      "[59]\ttrain's binary_logloss: 0.148253\ttrain's gini: 2.7088\teval's binary_logloss: 0.152006\teval's gini: 3.61573\n",
      "[60]\ttrain's binary_logloss: 0.148155\ttrain's gini: 2.69513\teval's binary_logloss: 0.152004\teval's gini: 3.62005\n",
      "[61]\ttrain's binary_logloss: 0.148041\ttrain's gini: 2.68176\teval's binary_logloss: 0.152009\teval's gini: 3.62692\n",
      "[62]\ttrain's binary_logloss: 0.147958\ttrain's gini: 2.66884\teval's binary_logloss: 0.152\teval's gini: 3.62701\n",
      "[63]\ttrain's binary_logloss: 0.147849\ttrain's gini: 2.65539\teval's binary_logloss: 0.152001\teval's gini: 3.62682\n",
      "[64]\ttrain's binary_logloss: 0.147784\ttrain's gini: 2.64771\teval's binary_logloss: 0.151987\teval's gini: 3.62692\n",
      "[65]\ttrain's binary_logloss: 0.147692\ttrain's gini: 2.63715\teval's binary_logloss: 0.15198\teval's gini: 3.62701\n",
      "[66]\ttrain's binary_logloss: 0.147625\ttrain's gini: 2.6281\teval's binary_logloss: 0.151984\teval's gini: 3.62996\n",
      "[67]\ttrain's binary_logloss: 0.147536\ttrain's gini: 2.616\teval's binary_logloss: 0.151985\teval's gini: 3.63329\n",
      "[68]\ttrain's binary_logloss: 0.147426\ttrain's gini: 2.60056\teval's binary_logloss: 0.15199\teval's gini: 3.6357\n",
      "[69]\ttrain's binary_logloss: 0.147305\ttrain's gini: 2.58563\teval's binary_logloss: 0.151996\teval's gini: 3.63826\n",
      "[70]\ttrain's binary_logloss: 0.147219\ttrain's gini: 2.57173\teval's binary_logloss: 0.152009\teval's gini: 3.64488\n",
      "[71]\ttrain's binary_logloss: 0.147107\ttrain's gini: 2.55297\teval's binary_logloss: 0.151999\teval's gini: 3.63948\n",
      "[72]\ttrain's binary_logloss: 0.147015\ttrain's gini: 2.54041\teval's binary_logloss: 0.152003\teval's gini: 3.64098\n",
      "[73]\ttrain's binary_logloss: 0.146932\ttrain's gini: 2.52816\teval's binary_logloss: 0.151999\teval's gini: 3.64092\n"
     ]
    },
    {
     "name": "stdout",
     "output_type": "stream",
     "text": [
      "[74]\ttrain's binary_logloss: 0.146838\ttrain's gini: 2.51321\teval's binary_logloss: 0.151998\teval's gini: 3.63732\n",
      "[75]\ttrain's binary_logloss: 0.146772\ttrain's gini: 2.50271\teval's binary_logloss: 0.151989\teval's gini: 3.6327\n",
      "[76]\ttrain's binary_logloss: 0.146676\ttrain's gini: 2.48963\teval's binary_logloss: 0.151996\teval's gini: 3.63232\n",
      "[77]\ttrain's binary_logloss: 0.146592\ttrain's gini: 2.4799\teval's binary_logloss: 0.152003\teval's gini: 3.63385\n",
      "[78]\ttrain's binary_logloss: 0.146525\ttrain's gini: 2.47158\teval's binary_logloss: 0.15199\teval's gini: 3.62882\n",
      "[79]\ttrain's binary_logloss: 0.146441\ttrain's gini: 2.4668\teval's binary_logloss: 0.151989\teval's gini: 3.63018\n",
      "[80]\ttrain's binary_logloss: 0.146342\ttrain's gini: 2.45498\teval's binary_logloss: 0.151989\teval's gini: 3.62797\n",
      "[81]\ttrain's binary_logloss: 0.146261\ttrain's gini: 2.44855\teval's binary_logloss: 0.151987\teval's gini: 3.62989\n",
      "[82]\ttrain's binary_logloss: 0.14616\ttrain's gini: 2.43833\teval's binary_logloss: 0.151996\teval's gini: 3.63398\n",
      "[83]\ttrain's binary_logloss: 0.146076\ttrain's gini: 2.42838\teval's binary_logloss: 0.15199\teval's gini: 3.6275\n",
      "[84]\ttrain's binary_logloss: 0.146011\ttrain's gini: 2.42062\teval's binary_logloss: 0.151994\teval's gini: 3.62925\n",
      "[85]\ttrain's binary_logloss: 0.14595\ttrain's gini: 2.41401\teval's binary_logloss: 0.151984\teval's gini: 3.62474\n",
      "[86]\ttrain's binary_logloss: 0.145851\ttrain's gini: 2.4009\teval's binary_logloss: 0.151993\teval's gini: 3.62892\n",
      "[87]\ttrain's binary_logloss: 0.145766\ttrain's gini: 2.39018\teval's binary_logloss: 0.152011\teval's gini: 3.6347\n",
      "[88]\ttrain's binary_logloss: 0.145662\ttrain's gini: 2.3756\teval's binary_logloss: 0.152018\teval's gini: 3.63926\n",
      "[89]\ttrain's binary_logloss: 0.145586\ttrain's gini: 2.36725\teval's binary_logloss: 0.15203\teval's gini: 3.64422\n",
      "[90]\ttrain's binary_logloss: 0.145516\ttrain's gini: 2.36006\teval's binary_logloss: 0.152025\teval's gini: 3.64413\n",
      "[91]\ttrain's binary_logloss: 0.145433\ttrain's gini: 2.35041\teval's binary_logloss: 0.152026\teval's gini: 3.64597\n",
      "[92]\ttrain's binary_logloss: 0.145333\ttrain's gini: 2.34036\teval's binary_logloss: 0.152019\teval's gini: 3.63919\n",
      "[93]\ttrain's binary_logloss: 0.145255\ttrain's gini: 2.33219\teval's binary_logloss: 0.152017\teval's gini: 3.63552\n",
      "[94]\ttrain's binary_logloss: 0.145187\ttrain's gini: 2.32527\teval's binary_logloss: 0.152012\teval's gini: 3.63188\n",
      "[95]\ttrain's binary_logloss: 0.145133\ttrain's gini: 2.32032\teval's binary_logloss: 0.152005\teval's gini: 3.63059\n",
      "[96]\ttrain's binary_logloss: 0.145041\ttrain's gini: 2.31255\teval's binary_logloss: 0.152019\teval's gini: 3.63916\n",
      "[97]\ttrain's binary_logloss: 0.144967\ttrain's gini: 2.30677\teval's binary_logloss: 0.15201\teval's gini: 3.63417\n",
      "[98]\ttrain's binary_logloss: 0.144889\ttrain's gini: 2.29884\teval's binary_logloss: 0.152025\teval's gini: 3.63713\n",
      "[99]\ttrain's binary_logloss: 0.144787\ttrain's gini: 2.28891\teval's binary_logloss: 0.152024\teval's gini: 3.63445\n",
      "[100]\ttrain's binary_logloss: 0.144717\ttrain's gini: 2.28198\teval's binary_logloss: 0.152015\teval's gini: 3.63305\n",
      "[101]\ttrain's binary_logloss: 0.144617\ttrain's gini: 2.27106\teval's binary_logloss: 0.152032\teval's gini: 3.63936\n",
      "[102]\ttrain's binary_logloss: 0.144531\ttrain's gini: 2.26399\teval's binary_logloss: 0.152036\teval's gini: 3.64247\n",
      "[103]\ttrain's binary_logloss: 0.144496\ttrain's gini: 2.26083\teval's binary_logloss: 0.152033\teval's gini: 3.64178\n",
      "[104]\ttrain's binary_logloss: 0.144442\ttrain's gini: 2.25762\teval's binary_logloss: 0.152037\teval's gini: 3.64177\n",
      "[105]\ttrain's binary_logloss: 0.14441\ttrain's gini: 2.25494\teval's binary_logloss: 0.152037\teval's gini: 3.64125\n",
      "[106]\ttrain's binary_logloss: 0.144336\ttrain's gini: 2.24878\teval's binary_logloss: 0.152038\teval's gini: 3.64047\n",
      "[107]\ttrain's binary_logloss: 0.144243\ttrain's gini: 2.24328\teval's binary_logloss: 0.152058\teval's gini: 3.64199\n",
      "[108]\ttrain's binary_logloss: 0.144145\ttrain's gini: 2.23474\teval's binary_logloss: 0.152064\teval's gini: 3.64281\n",
      "[109]\ttrain's binary_logloss: 0.14408\ttrain's gini: 2.22973\teval's binary_logloss: 0.152066\teval's gini: 3.64181\n",
      "Early stopping, best iteration is:\n",
      "[59]\ttrain's binary_logloss: 0.148253\ttrain's gini: 2.7088\teval's binary_logloss: 0.152006\teval's gini: 3.61573\n"
     ]
    }
   ],
   "source": [
    "def gini(actual, pred, cmpcol = 0, sortcol = 1):\n",
    "    assert( len(actual) == len(pred) )\n",
    "    all = np.asarray(np.c_[ actual, pred, np.arange(len(actual)) ], dtype=np.float)\n",
    "    all = all[ np.lexsort((all[:,2], -1*all[:,1])) ]\n",
    "    totalLosses = all[:,0].sum()\n",
    "    giniSum = all[:,0].cumsum().sum() / totalLosses\n",
    "    \n",
    "    giniSum -= (len(actual) + 1) / 2.\n",
    "    return giniSum / len(actual)\n",
    " \n",
    "def gini_normalized(a, p):\n",
    "    return gini(a, p) / gini(a, a)\n",
    "\n",
    "# Create an XGBoost-compatible metric from Gini\n",
    "\n",
    "def gini_xgb(preds, dtrain):\n",
    "    labels = dtrain.get_label()\n",
    "    gini_score = gini_normalized(labels, preds)\n",
    "    return [('gini', 1.0/gini_score,0)]\n",
    "\n",
    "# This is the data xgboost will test on after eachboosting round\n",
    "watchlist = [(d_train, 'train'), (d_valid, 'valid')]\n",
    "\n",
    "# Train the model! We pass in a max of 10,000 rounds (with early stopping after 100)\n",
    "# and the custom metric (maximize=True tells xgb that higher metric is better)\n",
    "\n",
    "mdl = lgb.train(params, \n",
    "                d_train, \n",
    "                num_boost_round=10000, \n",
    "                valid_sets = [d_valid,d_train],\n",
    "                valid_names = ['eval','train'],\n",
    "                early_stopping_rounds=50, \n",
    "                feval=gini_xgb)\n",
    "#mdl = xgb.train(params, d_train, 10000, watchlist, early_stopping_rounds=100, feval=gini_xgb, maximize=True, verbose_eval=10)\n",
    "\n"
   ]
  },
  {
   "cell_type": "code",
   "execution_count": 49,
   "metadata": {},
   "outputs": [
    {
     "name": "stdout",
     "output_type": "stream",
     "text": [
      "   id    target\n",
      "0   0  0.026392\n",
      "1   1  0.030347\n",
      "2   2  0.030897\n",
      "3   3  0.017845\n",
      "4   4  0.038344\n"
     ]
    }
   ],
   "source": [
    "# Predict on our test data\n",
    "p_test = mdl.predict(test[model_vars],num_iteration=mdl.best_iteration)\n",
    "\n",
    "# Create a submission file\n",
    "sub = pd.DataFrame()\n",
    "sub['id'] = id_test\n",
    "sub['target'] = p_test\n",
    "sub.to_csv('xgb1.csv.gz', index=False,compression='gzip')\n",
    "\n",
    "print(sub.head())"
   ]
  },
  {
   "cell_type": "code",
   "execution_count": 51,
   "metadata": {
    "scrolled": true
   },
   "outputs": [
    {
     "data": {
      "text/plain": [
       "Index(['id', 'target', 'ps_ind_01', 'ps_ind_02_cat', 'ps_ind_03',\n",
       "       'ps_ind_04_cat', 'ps_ind_05_cat', 'ps_ind_06_bin', 'ps_ind_07_bin',\n",
       "       'ps_ind_08_bin', 'ps_ind_09_bin', 'ps_ind_10_bin', 'ps_ind_11_bin',\n",
       "       'ps_ind_12_bin', 'ps_ind_13_bin', 'ps_ind_14', 'ps_ind_15',\n",
       "       'ps_ind_16_bin', 'ps_ind_17_bin', 'ps_ind_18_bin', 'ps_reg_01',\n",
       "       'ps_reg_02', 'ps_reg_03', 'ps_car_01_cat', 'ps_car_02_cat',\n",
       "       'ps_car_03_cat', 'ps_car_04_cat', 'ps_car_05_cat', 'ps_car_06_cat',\n",
       "       'ps_car_07_cat', 'ps_car_08_cat', 'ps_car_09_cat', 'ps_car_10_cat',\n",
       "       'ps_car_11_cat', 'ps_car_11', 'ps_car_12', 'ps_car_13', 'ps_car_14',\n",
       "       'ps_car_15', 'ps_calc_01', 'ps_calc_02', 'ps_calc_03', 'ps_calc_04',\n",
       "       'ps_calc_05', 'ps_calc_06', 'ps_calc_07', 'ps_calc_08', 'ps_calc_09',\n",
       "       'ps_calc_10', 'ps_calc_11', 'ps_calc_12', 'ps_calc_13', 'ps_calc_14',\n",
       "       'ps_calc_15_bin', 'ps_calc_16_bin', 'ps_calc_17_bin', 'ps_calc_18_bin',\n",
       "       'ps_calc_19_bin', 'ps_calc_20_bin'],\n",
       "      dtype='object')"
      ]
     },
     "execution_count": 51,
     "metadata": {},
     "output_type": "execute_result"
    }
   ],
   "source": [
    "train.columns"
   ]
  },
  {
   "cell_type": "code",
   "execution_count": 52,
   "metadata": {},
   "outputs": [
    {
     "data": {
      "text/plain": [
       "[]"
      ]
     },
     "execution_count": 52,
     "metadata": {},
     "output_type": "execute_result"
    }
   ],
   "source": [
    "[i for i, x in enumerate(train) if x == -1]"
   ]
  },
  {
   "cell_type": "code",
   "execution_count": 53,
   "metadata": {},
   "outputs": [
    {
     "data": {
      "text/plain": [
       "array([     0,      1,      1, ..., 595211, 595211, 595211], dtype=int64)"
      ]
     },
     "execution_count": 53,
     "metadata": {},
     "output_type": "execute_result"
    }
   ],
   "source": [
    "np.where(train.values == -1)[0]"
   ]
  },
  {
   "cell_type": "code",
   "execution_count": null,
   "metadata": {
    "collapsed": true
   },
   "outputs": [],
   "source": []
  }
 ],
 "metadata": {
  "kernelspec": {
   "display_name": "Python [conda env:tf]",
   "language": "python",
   "name": "conda-env-tf-py"
  },
  "language_info": {
   "codemirror_mode": {
    "name": "ipython",
    "version": 3
   },
   "file_extension": ".py",
   "mimetype": "text/x-python",
   "name": "python",
   "nbconvert_exporter": "python",
   "pygments_lexer": "ipython3",
   "version": "3.5.4"
  }
 },
 "nbformat": 4,
 "nbformat_minor": 1
}
