{
 "cells": [
  {
   "cell_type": "code",
   "execution_count": null,
   "metadata": {
    "collapsed": false
   },
   "outputs": [],
   "source": [
    "import numpy as np \n",
    "import pandas as pd \n",
    "import matplotlib.pyplot as plt\n",
    "\n",
    "from sklearn.linear_model import ElasticNetCV, LinearRegression\n",
    "\n",
    "import kagglegym"
   ]
  },
  {
   "cell_type": "code",
   "execution_count": null,
   "metadata": {
    "collapsed": true
   },
   "outputs": [],
   "source": [
    "class fitModel():\n",
    "    '''\n",
    "        This class is going to take train values\n",
    "        and a particular type of model and take care of\n",
    "        the prediction step and wil contain a fit\n",
    "        step. \n",
    "        \n",
    "        Remember to send in a copy of train because\n",
    "        there is a high chance that it will be modified\n",
    "        \n",
    "        the model is a sklearn model like ElasticNetCV\n",
    "        \n",
    "        all other parameters are passed onto the model\n",
    "    '''\n",
    "    \n",
    "    def __init__(self, model, train, columns):\n",
    "\n",
    "        # first save the model ...\n",
    "        self.model   = model\n",
    "        self.columns = columns\n",
    "        \n",
    "        # Get the X, and y values, \n",
    "        y = np.array(train.y)\n",
    "        \n",
    "        X = train[columns]\n",
    "        self.xMeans = X.mean(axis=0) # Remember to save this value\n",
    "        self.xStd   = X.std(axis=0)  # Remember to save this value\n",
    "\n",
    "        X = np.array(X.fillna( self.xMeans ))\n",
    "        X = (X - np.array(self.xMeans))/np.array(self.xStd)\n",
    "        \n",
    "        # fit the model\n",
    "        self.model.fit(X, y)\n",
    "        \n",
    "        return\n",
    "    \n",
    "    def predict(self, features):\n",
    "        '''\n",
    "            This function is going to return the predicted\n",
    "            value of the function that we are trying to \n",
    "            predict, given the observations. \n",
    "        '''\n",
    "        X = features[self.columns]\n",
    "        X = np.array(X.fillna( self.xMeans ))\n",
    "        X = (X - np.array(self.xMeans))/np.array(self.xStd)\n",
    "\n",
    "        return self.model.predict(X)"
   ]
  },
  {
   "cell_type": "code",
   "execution_count": null,
   "metadata": {
    "collapsed": false
   },
   "outputs": [],
   "source": [
    "def checkModel(modelToUse, columns):\n",
    "    '''\n",
    "        This  function checks and makes sure that the \n",
    "        model provided is doing what it is supposed to\n",
    "        do. This is a sanity check ...\n",
    "    '''\n",
    "    \n",
    "    rewards = []\n",
    "    env = kagglegym.make()\n",
    "    observation = env.reset()\n",
    "    \n",
    "    train = observation.train\n",
    "    \n",
    "    # Just to make things easier to visualize\n",
    "    # and also to speed things up ...\n",
    "    # -----------------------------------------\n",
    "    train   = train[['timestamp', 'y'] + columns]\n",
    "    train   = train.groupby('timestamp').aggregate(np.mean)\n",
    "    train.y = np.cumsum(train.y) # easier to visualize\n",
    "    \n",
    "    print('fitting a model')\n",
    "    model = fitModel(modelToUse, train, columns)\n",
    "    \n",
    "    print('predict the same data')\n",
    "    yHat = model.predict(train) # We already select required columns\n",
    "    \n",
    "    plt.figure()\n",
    "    plt.plot(yHat, color='black', lw=2, label='predicted')\n",
    "    plt.plot(train.y, '.', mec='None', mfc='orange', label='original')\n",
    "    plt.legend(loc='lower right')\n",
    "    \n",
    "    return"
   ]
  },
  {
   "cell_type": "code",
   "execution_count": null,
   "metadata": {
    "collapsed": false
   },
   "outputs": [],
   "source": [
    "columns = ['technical_30', 'technical_20', 'fundamental_11', 'technical_19']\n",
    "checkModel(LinearRegression(), columns)\n",
    "plt.title('four columns')\n",
    "    \n",
    "# Get all columns here \n",
    "env     = kagglegym.make()\n",
    "allCols = env.reset().train.columns\n",
    "\n",
    "checkModel(LinearRegression(), [c for c in allCols if 'fundamental' in c])\n",
    "plt.title('fundamentals')\n",
    "\n",
    "checkModel(LinearRegression(), [c for c in allCols if 'technical' in c])\n",
    "plt.title('technicals')"
   ]
  },
  {
   "cell_type": "code",
   "execution_count": null,
   "metadata": {
    "collapsed": true
   },
   "outputs": [],
   "source": [
    "def getScore(modelToUse, columns):\n",
    "    \n",
    "    print('Starting a new calculation for score')\n",
    "    rewards = []\n",
    "    env = kagglegym.make()\n",
    "    observation = env.reset()\n",
    "    \n",
    "    print('fitting a model')\n",
    "    model = fitModel(modelToUse, observation.train.copy(), columns)\n",
    "\n",
    "    print('Starting to fit a model')\n",
    "    while True:\n",
    "        \n",
    "        prediction  = model.predict(observation.features.copy())\n",
    "        target      = observation.target\n",
    "        target['y'] = prediction\n",
    "        \n",
    "        timestamp = observation.features[\"timestamp\"][0]\n",
    "        if timestamp % 100 == 0:\n",
    "            print(timestamp)\n",
    "\n",
    "        observation, reward, done, info = env.step(target)\n",
    "        rewards.append(reward)\n",
    "        if done: break\n",
    "            \n",
    "    return info['public_score'], rewards"
   ]
  },
  {
   "cell_type": "code",
   "execution_count": null,
   "metadata": {
    "collapsed": true
   },
   "outputs": [],
   "source": [
    "columns = ['technical_30', 'technical_20', 'fundamental_11', 'technical_19']\n",
    "score = getScore(ElasticNetCV(), columns)[0]\n",
    "print score"
   ]
  }
 ],
 "metadata": {
  "kernelspec": {
   "display_name": "Python 2",
   "language": "python",
   "name": "python2"
  },
  "language_info": {
   "codemirror_mode": {
    "name": "ipython",
    "version": 2
   },
   "file_extension": ".py",
   "mimetype": "text/x-python",
   "name": "python",
   "nbconvert_exporter": "python",
   "pygments_lexer": "ipython2",
   "version": "2.7.11"
  }
 },
 "nbformat": 4,
 "nbformat_minor": 0
}
